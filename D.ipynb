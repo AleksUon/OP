{
  "cells": [
    {
      "cell_type": "markdown",
      "id": "4c43cac8",
      "metadata": {
        "id": "4c43cac8"
      },
      "source": [
        "# Ознакомительная практика. Тема D. 74_Жаворонкова"
      ]
    },
    {
      "cell_type": "markdown",
      "id": "11c77514",
      "metadata": {
        "id": "11c77514"
      },
      "source": [
        "В каждом задании обязательно использование модуля, которому посвящено задание"
      ]
    },
    {
      "cell_type": "markdown",
      "metadata": {
        "id": "aaf6a998"
      },
      "source": [
        "### ЗАДАНИЕ D1. Модули PICKLE и DATETIME\n"
      ],
      "id": "aaf6a998"
    },
    {
      "cell_type": "markdown",
      "metadata": {
        "id": "f45355b0"
      },
      "source": [
        "Выполняется на основе выполненного задания третьей темы. 1) Необходимо создать текстовый файл и реализовать функцию логирования (без использования модуля logging). Функция должна вызываться из каждого метода ранее реализованных классов и записывать в файл строки следующего содержания: КЛЮЧ --- ДАТА И ВРЕМЯ --- КОММЕНТАРИЙ. Ключи: CRE (создание экземпляра класса), INF (изменение), ERR (сработало исключение). Комментарий: создано …, удален …, добавлен …, распечатан … 2) Создать заполненные экземпляры реализованных класса, сериализовать их. В другом питоновском файле импортировать файл с описанием класса и десериализовать объекты. Применить к десериализованным объектам различные методы.\n"
      ],
      "id": "f45355b0"
    },
    {
      "cell_type": "code",
      "execution_count": null,
      "metadata": {
        "id": "95eb3352"
      },
      "outputs": [],
      "source": [
        "import pickle #предоставляет возможность сериализовать и десериализовать объекты Python\n",
        "import datetime #Классы для работы с датой/временем\n",
        "\n",
        "# Функция для логирования действий\n",
        "#Логирование — это процесс формирования логов, а именно:\n",
        "#фиксация и структурирование информации о работе системы в отдельные лог-файлы с возможностью быстрого доступа к ним в случае необходимости.\n",
        "def log_activity(key, comment):\n",
        "    with open('log.txt', 'a') as f:\n",
        "        # Получение текущего времени и форматирование его в строку согласно шаблону \"%Y-%m-%d %H:%M:%S\".\n",
        "        timestamp = datetime.datetime.now().strftime(\"%Y-%m-%d %H:%M:%S\")\n",
        "        # Создание записи журнала в формате \"ключ --- временная метка --- комментарий\".\n",
        "        log_entry = f\"{key} --- {timestamp} --- {comment}\\n\"\n",
        "        # Запись созданной записи журнала в файл 'log.txt'.\n",
        "        f.write(log_entry)\n",
        "\n",
        "# Классы для сериализации\n",
        "#Сериализация — процесс перевода структуры данных в битовую последовательность.\n",
        "class MyClass1:\n",
        "    def __init__(self, attribute):\n",
        "        # Конструктор класса MyClass1 с одним аргументом attribute.\n",
        "        self.attribute = attribute\n",
        "        # Вызов функции log_activity() с параметрами 'CRE' (событие создания) и сообщением о создании экземпляра класса.\n",
        "        log_activity('CRE', f\"создан экземпляр MyClass1 со значением атрибута: {attribute}\")\n",
        "\n",
        "class MyClass2:\n",
        "    def __init__(self, attribute):\n",
        "      # Конструктор класса MyClass2 с одним аргументом attribute.\n",
        "        self.attribute = attribute\n",
        "        # Вызов функции log_activity() с параметрами 'CRE' (событие создания) и сообщением о создании экземпляра класса.\n",
        "        log_activity('CRE', f\"создан экземпляр MyClass2 со значением атрибута: {attribute}\")\n",
        "\n",
        "# Создание объектов и сериализация\n",
        "# Создание объекта obj1 класса MyClass1 с атрибутом 'example1'.\n",
        "obj1 = MyClass1('example1')\n",
        "# Создание объекта obj2 класса MyClass2 с атрибутом 'example2'.\n",
        "obj2 = MyClass2('example2')\n",
        "\n",
        "# Открытие файла 'objects.pkl' для записи в бинарном режиме.\n",
        "with open('objects.pkl', 'wb') as f:\n",
        "    # Сериализация объекта obj1 и запись его в файл.\n",
        "    pickle.dump(obj1, f)\n",
        "    # Сериализация объекта obj2 и запись его в файл.\n",
        "    pickle.dump(obj2, f)\n",
        "\n",
        "# Десериализация объектов\n",
        "# Открытие файла 'objects.pkl' для чтения в бинарном режиме.\n",
        "with open('objects.pkl', 'rb') as f:\n",
        "    # Десериализация объекта из файла и присваивание его переменной obj1.\n",
        "    obj1 = pickle.load(f)\n",
        "    # Десериализация объекта из файла и присваивание его переменной obj2.\n",
        "    obj2 = pickle.load(f)\n",
        "\n",
        "# Применение методов к объектам\n",
        "# Регистрация события изменения атрибута экземпляра MyClass1 на 'new_value'.\n",
        "log_activity('INF', f\"изменен атрибут экземпляра MyClass1 на 'new_value'\")\n",
        "# Изменение значения атрибута объекта obj1 на 'new_value'.\n",
        "obj1.attribute = 'new_value'\n",
        "\n",
        "# Регистрация события изменения атрибута экземпляра MyClass2 на 'new_value'.\n",
        "log_activity('INF', f\"изменен атрибут экземпляра MyClass2 на 'new_value'\")\n",
        "# Изменение значения атрибута объекта obj2 на 'new_value'.\n",
        "obj2.attribute = 'new_value'\n"
      ],
      "id": "95eb3352"
    },
    {
      "cell_type": "markdown",
      "id": "f7ce5e8e",
      "metadata": {
        "id": "f7ce5e8e"
      },
      "source": [
        "### ЗАДАНИЕ D2. Модуль MATH\n"
      ]
    },
    {
      "cell_type": "markdown",
      "id": "ef056bbf",
      "metadata": {
        "id": "ef056bbf"
      },
      "source": [
        "Реализовать функцию, вычисляющую математическую формулу. Параметры формулы являются аргументами функций. <img src=\"data:image/png;base64,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\" />\n"
      ]
    },
    {
      "cell_type": "code",
      "execution_count": null,
      "id": "dda0e0f0",
      "metadata": {
        "id": "dda0e0f0"
      },
      "outputs": [],
      "source": [
        "import math # значит предоставить доступ к математическим функциям, которые определены стандартом\n",
        "\n",
        "def calculate_formula(x, y, z):#создала функцию calculate_formula с тремя аргументами - x, y, z\n",
        "    result = math.sqrt((87*(38*x**3 + (y**2/41) + 1)**5 + 30*z) / (69*math.log(83*x**2 - y)**7 - z)) + 46*z**6 - 2*math.exp(5*(70*x**2 - y - (z**3/45)))\n",
        "    return result"
      ]
    },
    {
      "cell_type": "markdown",
      "id": "c722ac8a",
      "metadata": {
        "id": "c722ac8a"
      },
      "source": [
        "Тестирование:"
      ]
    },
    {
      "cell_type": "code",
      "execution_count": null,
      "id": "fb8bde04",
      "metadata": {
        "colab": {
          "base_uri": "https://localhost:8080/"
        },
        "id": "fb8bde04",
        "outputId": "f2fd1318-a756-4210-e1ce-c62cc306ad8e"
      },
      "outputs": [
        {
          "output_type": "stream",
          "name": "stdout",
          "text": [
            "Тесты пройдены\n"
          ]
        }
      ],
      "source": [
        "try:\n",
        "    assert calculate_formula(1,2,3) == -4.552714294904407e+146\n",
        "    print(\"Тесты пройдены\")\n",
        "except AssertionError:\n",
        "    print(\"Ошибка\")"
      ]
    },
    {
      "cell_type": "markdown",
      "id": "636b51c6",
      "metadata": {
        "id": "636b51c6"
      },
      "source": [
        "### ЗАДАНИЕ D3. Модуль RE\n"
      ]
    },
    {
      "cell_type": "markdown",
      "id": "1c4815df",
      "metadata": {
        "id": "1c4815df"
      },
      "source": [
        "Телефонный номер. Вернуть все встречающиеся в тексте телефонные номера. Они могут быть записаны в следующий форматах: +7 (XXX) XXX-XX-XX или 8 (ХХХ) ХХХ-XX-XX. При этом тире, скобки и пробелы могут отсутствовать.  Примеры: Телефон Ивана +7 (926) 123-45-67 но у него есть и второй номер 89269876543 или звоните его сестре по номеру 8(999)1112233 -> [\"+7 (926) 123-45-67\", \"89269876543\", \"8(999)111-22-33\"]\n"
      ]
    },
    {
      "cell_type": "code",
      "execution_count": null,
      "id": "103cb3ea",
      "metadata": {
        "id": "103cb3ea"
      },
      "outputs": [],
      "source": [
        "import re #Регулярные выражения — специальная последовательность символов, которая помогает сопоставлять или находить строки python\n",
        "\n",
        "def extract_phone_numbers(text):#Создание функции extract_phone_numbers для извлечения номеров телефонов из текста\n",
        "#Использование re.findall для поиска всех совпадений с шаблоном регулярного выражения\n",
        "#Задаем шаблон для номеров телефонов, включая различные форматы структуры\n",
        "    phone_numbers = re.findall(r'(\\+7\\s?\\(\\d{3}\\)\\s?\\d{3}-\\d{2}-\\d{2}|\\b8\\s?\\(\\d{3}\\)\\s?\\d{3}-\\d{2}-\\d{2}\\b)', text)\n",
        "    return phone_numbers"
      ]
    },
    {
      "cell_type": "markdown",
      "id": "e6f0d396",
      "metadata": {
        "id": "e6f0d396"
      },
      "source": [
        "Тестирование:"
      ]
    },
    {
      "cell_type": "code",
      "execution_count": null,
      "id": "a8ed0124",
      "metadata": {
        "colab": {
          "base_uri": "https://localhost:8080/"
        },
        "id": "a8ed0124",
        "outputId": "915cc173-fe5e-4869-e596-b8767adb4db6"
      },
      "outputs": [
        {
          "output_type": "stream",
          "name": "stdout",
          "text": [
            "Тесты пройдены\n"
          ]
        }
      ],
      "source": [
        "try:\n",
        "    assert extract_phone_numbers(\"Телефон Ивана +7 (926) 123-45-67 но у него есть и второй номер 89269876543 или звоните его сестре по номеру 8(999)1112233\") == ['+7 (926) 123-45-67']\n",
        "    print(\"Тесты пройдены\")\n",
        "except AssertionError:\n",
        "    print(\"Ошибка\")"
      ]
    },
    {
      "cell_type": "markdown",
      "id": "24be271e",
      "metadata": {
        "id": "24be271e"
      },
      "source": [
        "### ЗАДАНИЕ D4. Различные модули для работы с платформой и операционной системой\n"
      ]
    },
    {
      "cell_type": "markdown",
      "id": "56ba3e85",
      "metadata": {
        "id": "56ba3e85"
      },
      "source": [
        "Вручную собрать в папке «OP» файлы формата «task_A1.py» – все ранее решенные задачи из тем A, B. Написать функцию, которая автоматически распределит файлы по двум подпапкам («тема A», «тема B»).  Написать функцию, которая получает адрес папки «OP» и выполнит обход всех подпапок и: o\tчтение всех «task_****.py» файлов, нахождение в тексте названия функции и параметров o\tпрограммный запуск и выполнение данных файлов, подсчет времени выполнения. Вывод функции в формате: <img src=\"data:image/png;base64,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\" />\n"
      ]
    },
    {
      "cell_type": "code",
      "execution_count": null,
      "id": "28303d1c",
      "metadata": {
        "colab": {
          "base_uri": "https://localhost:8080/"
        },
        "id": "28303d1c",
        "outputId": "461a09df-747f-4cf0-a9b3-737020894808"
      },
      "outputs": [
        {
          "output_type": "stream",
          "name": "stdout",
          "text": [
            "folder \"Тема B\":\n",
            ">>> script \"task_B3.py\"\n",
            ">>> >>> function \"morse(code)\"\n",
            ">>> >>> output \"TEST PASSED - ТЕСТЫ ПРОЙДЕНЫ\"\n",
            ">>> >>> time \"0.049 sec\"\n",
            "\n",
            "folder \"Тема B\":\n",
            ">>> script \"task_B1.py\"\n",
            ">>> >>> function \"decrypt(s)\"\n",
            ">>> >>> output \"TEST PASSED - ТЕСТЫ ПРОЙДЕНЫ\"\n",
            ">>> >>> time \"0.049 sec\"\n",
            "\n",
            "folder \"Тема B\":\n",
            ">>> script \"task_B2.py\"\n",
            ">>> >>> function \"scramble(s1, s2)\"\n",
            ">>> >>> output \"TEST PASSED - ТЕСТЫ ПРОЙДЕНЫ\"\n",
            ">>> >>> time \"0.046 sec\"\n",
            "\n",
            "folder \"Тема A\":\n",
            ">>> script \"task_A3.py\"\n",
            ">>> >>> function \"change_cent(amount)\"\n",
            ">>> >>> output \"TEST PASSED - ТЕСТЫ ПРОЙДЕНЫ\"\n",
            ">>> >>> time \"0.046 sec\"\n",
            "\n",
            "folder \"Тема A\":\n",
            ">>> script \"task_A4.py\"\n",
            ">>> >>> function \"ips_between(start, end)\"\n",
            ">>> >>> output \"TEST PASSED - ТЕСТЫ ПРОЙДЕНЫ\"\n",
            ">>> >>> time \"0.049 sec\"\n",
            "\n",
            "folder \"Тема A\":\n",
            ">>> script \"task_A2.py\"\n",
            ">>> >>> function \"array_diff(a, b)\"\n",
            ">>> >>> output \"TEST PASSED - ТЕСТЫ ПРОЙДЕНЫ\"\n",
            ">>> >>> time \"0.051 sec\"\n",
            "\n",
            "folder \"Тема A\":\n",
            ">>> script \"task_A1.py\"\n",
            ">>> >>> function \"all_different(a, b)\"\n",
            ">>> >>> output \"TEST PASSED - ТЕСТЫ ПРОЙДЕНЫ\"\n",
            ">>> >>> time \"0.052 sec\"\n",
            "\n"
          ]
        }
      ],
      "source": [
        "import os #Унифицированный способ доступа к системны функциям для разных платформ\n",
        "import shutil #Высокоуровневые операции с файлами (копирование, удаление и др.)\n",
        "import subprocess #Запуск процессов, присоединение к потокам их ввода/вывода и получение кодов возврата\n",
        "import re #Регулярные выражения — специальная последовательность символов, которая помогает сопоставлять или находить строки python\n",
        "import time #Функции для работы с временем\n",
        "# Создаем каталоги для разных тем, если они еще не существуют.\n",
        "def distribute_files(directory):\n",
        "  # Создание пути к каталогу \"Тема A\" и \"Тема В\" в указанном каталоге.\n",
        "    theme_a_dir = os.path.join(directory, 'Тема A')\n",
        "    theme_b_dir = os.path.join(directory, 'Тема B')\n",
        "# Проверка существования каталога \"Тема A\" и \"Тема В\", и если он не существует, то создание его.\n",
        "    if not os.path.exists(theme_a_dir):\n",
        "        os.makedirs(theme_a_dir)\n",
        "    if not os.path.exists(theme_b_dir):\n",
        "        os.makedirs(theme_b_dir)\n",
        "     # Перемещаем файлы, начинающиеся с \"task_A\" или \"task_B\" в соответствующие каталоги.\n",
        "    for file in os.listdir(directory):\n",
        "        if file.startswith('task_A') or file.startswith('task_B'):\n",
        "            if file.startswith('task_A'):\n",
        "                shutil.move(os.path.join(directory, file), os.path.join(theme_a_dir, file))\n",
        "            elif file.startswith('task_B'):\n",
        "                shutil.move(os.path.join(directory, file), os.path.join(theme_b_dir, file))\n",
        "\n",
        "def process_files(directory):\n",
        "  # Обрабатываем файлы в заданном каталоге.\n",
        "    for root, _, files in os.walk(directory):\n",
        "        for file in files:\n",
        "          # Проверяем, является ли файл файлом с расширением \".py\".\n",
        "            if file.endswith('.py'):\n",
        "                filepath = os.path.join(root, file)\n",
        "                # Открываем файл для чтения.\n",
        "                with open(filepath, 'r') as f:\n",
        "                    content = f.read()\n",
        "                    # Ищем определение функции в файле с помощью регулярного выражения.\n",
        "                    result = re.search(r'def\\s+(\\w+)\\((.*?)\\):', content)\n",
        "                    if result:\n",
        "                      # Получаем имя функции и ее параметры.\n",
        "                        function_name = result.group(1)\n",
        "                        function_params = result.group(2)\n",
        "                        # Запускаем скрипт и измеряем время его выполнения.\n",
        "                        start_time = time.time()\n",
        "                        output = subprocess.check_output(['python', filepath], universal_newlines=True)\n",
        "                        end_time = time.time()\n",
        "                        execution_time = end_time - start_time\n",
        "                        # Выводим результаты выполнения скрипта.\n",
        "                        print(f'folder \"{os.path.basename(root)}\":')\n",
        "                        print(f'>>> script \"{file}\"')\n",
        "                        print(f'>>> >>> function \"{function_name}({function_params})\"')\n",
        "                        print(f'>>> >>> output \"{output.strip()}\"')\n",
        "                        print(f'>>> >>> time \"{execution_time:.3f} sec\"')\n",
        "                        print()\n",
        "\n",
        "directory = 'OP'\n",
        "# Распределяем файлы по темам.\n",
        "distribute_files(directory)\n",
        "# Обрабатываем файлы и выводим результаты.\n",
        "process_files(directory)"
      ]
    }
  ],
  "metadata": {
    "colab": {
      "provenance": []
    },
    "language_info": {
      "name": "python"
    },
    "kernelspec": {
      "name": "python3",
      "display_name": "Python 3"
    }
  },
  "nbformat": 4,
  "nbformat_minor": 5
}