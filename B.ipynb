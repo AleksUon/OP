{
  "cells": [
    {
      "cell_type": "markdown",
      "id": "12507ed0",
      "metadata": {
        "id": "12507ed0"
      },
      "source": [
        "# Ознакомительная практика. Тема B. 74_Жаворонкова"
      ]
    },
    {
      "cell_type": "markdown",
      "id": "39087674",
      "metadata": {
        "id": "39087674"
      },
      "source": [
        "## Задание B1\n",
        "Написать функцию decrypt, которая подсчитывает количество вхождений символов с 'a' до 'z' и  \n",
        "возвращает строку длиной 26 символов, где на каждой позиции - количетво вхождений этой буквы в строке.  \n",
        "Буквы должны быть упорядочены, как в алфавите.  \n",
        "\n",
        "Примеры:\n",
        "```python\n",
        "decrypt('$aaaabbb*cc^fff!z') ==> '43200300000000000000000001'\n",
        "          ^    ^   ^  ^  ^         ^^^  ^                   ^\n",
        "         [4]  [3] [2][3][1]        abc  f                   z\n",
        "```"
      ]
    },
    {
      "cell_type": "code",
      "execution_count": null,
      "id": "1cba4d3e",
      "metadata": {
        "id": "1cba4d3e"
      },
      "outputs": [],
      "source": [
        "def decrypt(s): #Функция decrypt принимает строку s, проходит по каждому символу в строке и подсчитывает количество встреч каждой буквы в строке\n",
        "  counts = [0]*26 #Используется список counts длиной 26, в котором индексы соответствуют кодам ASCII символов от a до z\n",
        "  for char in s:\n",
        "    if 'a' <= char <= 'z': #Если символ в строке является буквой от a до z, то инкрементируется соответствующий элемент в counts\n",
        "      counts[ord(char) - ord('a')] += 1\n",
        "  return ''.join(map(str, counts)) #возвращает строку, в которой каждый элемент списка counts преобразован в строку и объединен в одну строку."
      ]
    },
    {
      "cell_type": "markdown",
      "id": "ab0f1660",
      "metadata": {
        "id": "ab0f1660"
      },
      "source": [
        "Тесты:"
      ]
    },
    {
      "cell_type": "code",
      "execution_count": null,
      "id": "613a502f",
      "metadata": {
        "colab": {
          "base_uri": "https://localhost:8080/"
        },
        "id": "613a502f",
        "outputId": "bfeb782a-844a-4731-8c4e-e9b2bf70d57b"
      },
      "outputs": [
        {
          "output_type": "stream",
          "name": "stdout",
          "text": [
            "TEST PASSED - ТЕСТЫ ПРОЙДЕНЫ\n"
          ]
        }
      ],
      "source": [
        "import traceback\n",
        "\n",
        "try:\n",
        "    assert decrypt('$aaaa#bbb*ccfff!z') == '43200300000000000000000001'\n",
        "    assert decrypt('z$aaa#ccc%eee1234567890') == '30303000000000000000000001'\n",
        "except AssertionError:\n",
        "    print(\"TEST ERROR - ОШИБКА В ТЕСТЕ\")\n",
        "    traceback.print_exc()\n",
        "else:\n",
        "    print(\"TEST PASSED - ТЕСТЫ ПРОЙДЕНЫ\")\n"
      ]
    },
    {
      "cell_type": "markdown",
      "id": "eed191c3",
      "metadata": {
        "id": "eed191c3"
      },
      "source": [
        "## Задание B2\n",
        "Написать функцию scramble, которая получает две строки и определяет:  \n",
        "можно ли из букв первой строки перестановкой получить второе слово.  \n",
        "\n",
        "Примеры:\n",
        "```python\n",
        "scramble('rkqodlw', 'world') ==> True\n",
        "```"
      ]
    },
    {
      "cell_type": "code",
      "execution_count": null,
      "id": "e593e9ef",
      "metadata": {
        "id": "e593e9ef"
      },
      "outputs": [],
      "source": [
        "def scramble(s1, s2):\n",
        "  for char in set(s2): #проходим по уникальным символам из строки s2\n",
        "    if s1.count(char) < s2.count(char): #если количество встреч символа в строке s1 меньше количества встреч символа в строке s2\n",
        "      return False\n",
        "  return True"
      ]
    },
    {
      "cell_type": "markdown",
      "id": "b545c899",
      "metadata": {
        "id": "b545c899"
      },
      "source": [
        "Тесты:"
      ]
    },
    {
      "cell_type": "code",
      "execution_count": null,
      "id": "7727cc15",
      "metadata": {
        "colab": {
          "base_uri": "https://localhost:8080/"
        },
        "id": "7727cc15",
        "outputId": "400b3266-6c9c-411c-c562-b3289b1d5391"
      },
      "outputs": [
        {
          "output_type": "stream",
          "name": "stdout",
          "text": [
            "TEST PASSED - ТЕСТЫ ПРОЙДЕНЫ\n"
          ]
        }
      ],
      "source": [
        "import traceback\n",
        "\n",
        "try:\n",
        "    assert scramble('rkqodlw', 'world') ==  True\n",
        "    assert scramble('cedewaraaossoqqyt', 'codewars') == True\n",
        "    assert scramble('katas', 'steak') == False\n",
        "    assert scramble('scriptjava', 'javascript') == True\n",
        "    assert scramble('scriptingjava', 'javascript') == True\n",
        "except AssertionError:\n",
        "    print(\"TEST ERROR - ОШИБКА В ТЕСТЕ\")\n",
        "    traceback.print_exc()\n",
        "else:\n",
        "    print(\"TEST PASSED - ТЕСТЫ ПРОЙДЕНЫ\")\n"
      ]
    },
    {
      "cell_type": "markdown",
      "id": "28689654",
      "metadata": {
        "id": "28689654"
      },
      "source": [
        "## Задание B3\n",
        "Написать функцию morse, которая расшифровывает строку, закодированную азбукой Морзе  \n",
        "a .-      h ....    o ---     u ..-      1 .----     6 -....  \n",
        "b -...    i ..      p .--.    v ...-     2 ..---     7 --...  \n",
        "c -.-.    j .---    q --.-    w .--      3 ...--     8 ---..  \n",
        "d -..     k -.-     r .-.     x -..-     4 ....-     9 ----.  \n",
        "e .       l .-..    s ...     y -.--     5 .....     0 -----  \n",
        "f ..-.    m --      t -       z --..  \n",
        "g --.     n -.  \n",
        "\n",
        "Пример:\n",
        "```python\n",
        "morse(\"..  .- --  .-  - . ... -\") ==> \"i am a test\"\n",
        "```"
      ]
    },
    {
      "cell_type": "code",
      "execution_count": null,
      "id": "d437d6a2",
      "metadata": {
        "id": "d437d6a2"
      },
      "outputs": [],
      "source": [
        "def morse(code): # словарь, где ключи представляют символы, а значения - их коды Морзе\n",
        "  morse_alphabet = {\n",
        "  'a': '.-', 'b': '-...', 'c': '-.-.', 'd': '-..', 'e': '.',\n",
        "  'f': '..-.', 'g': '--.', 'h': '....', 'i': '..', 'j': '.---',\n",
        "  'k': '-.-', 'l': '.-..', 'm': '--', 'n': '-.', 'o': '---',\n",
        "  'p': '.--.', 'q': '--.-', 'r': '.-.', 's': '...', 't': '-',\n",
        "  'u': '..-', 'v': '...-', 'w': '.--', 'x': '-..-', 'y': '-.--',\n",
        "  'z': '--..', '1': '.----', '2': '..---', '3': '...--', '4': '....-',\n",
        "  '5': '.....', '6': '-....', '7': '--...', '8': '---..', '9': '----.',\n",
        "  '0': '-----', ' ': ' '\n",
        "}\n",
        "\n",
        "  decrypted = ''  # Переменная для хранения расшифрованного текста\n",
        "  words = code.split(' ')  # Разделение входной строки на слова по пробелу\n",
        "  for word in words:  # Перебор слов в полученном списке\n",
        "    if word:  # Проверка, что слово не пустое\n",
        "        decrypted += morse_alphabet.get(word, ' ')  # Добавление расшифрованного символа в переменную decrypted\n",
        "    else:\n",
        "        decrypted += ' '  # Добавление пробела, если слово было пустым\n",
        "  return decrypted.strip()  # Возврат расшифрованного текста без лишних пробелов"
      ]
    },
    {
      "cell_type": "markdown",
      "id": "c4240630",
      "metadata": {
        "id": "c4240630"
      },
      "source": [
        "Тесты:"
      ]
    },
    {
      "cell_type": "code",
      "execution_count": null,
      "id": "29bc7599",
      "metadata": {
        "colab": {
          "base_uri": "https://localhost:8080/"
        },
        "id": "29bc7599",
        "outputId": "2d462c17-04c8-4ddf-febb-da7d3754349d"
      },
      "outputs": [
        {
          "output_type": "stream",
          "name": "stdout",
          "text": [
            "TEST PASSED - ТЕСТЫ ПРОЙДЕНЫ\n"
          ]
        }
      ],
      "source": [
        "import traceback\n",
        "\n",
        "try:\n",
        "    assert morse(\".... . .-.. .-.. ---  .-- --- .-. .-.. -..\") == \"hello world\"\n",
        "    assert morse(\".---- ... -  .- -. -..  ..--- -. -..\") == \"1st and 2nd\"\n",
        "    assert morse(\".- -... -.-. -.. . ..-. --. .... .. .--- -.- .-.. -- -. --- .--. --.- .-. ... - ..- ...- .-- -..- -.-- --.. ----- .---- ..--- ...-- ....- ..... -.... --... ---.. ----.\") \\\n",
        "        == \"abcdefghijklmnopqrstuvwxyz0123456789\"\n",
        "    assert morse(\"\") == \"\"\n",
        "except AssertionError:\n",
        "    print(\"TEST ERROR - ОШИБКА В ТЕСТЕ\")\n",
        "    traceback.print_exc()\n",
        "else:\n",
        "    print(\"TEST PASSED - ТЕСТЫ ПРОЙДЕНЫ\")\n"
      ]
    },
    {
      "cell_type": "markdown",
      "id": "2ecaf9ff",
      "metadata": {
        "id": "2ecaf9ff"
      },
      "source": [
        "## Задание B4\n"
      ]
    },
    {
      "cell_type": "markdown",
      "source": [
        "Создать txt-файл, вставить туда любую англоязычную статью из Википедии.\n",
        "\n",
        "Реализовать одну функцию, которая выполняет следующие операции:\n",
        "- прочитать файл построчно;\n",
        "- непустые строки добавить в список;\n",
        "- удалить из каждой строки все цифры, знаки препинания, скобки, кавычки и т.д. (остаются латинские буквы и пробелы);\n",
        "- объединить все строки из списка в одну, используя метод join и пробел, как разделитель;\n",
        "- создать словарь вида {“слово”: количество, “слово”: количество, … } для подсчета количества разных слов,\n",
        "где ключом будет уникальное слово, а значением - количество;\n",
        "- вывести в порядке убывания 10 наиболее популярных слов, используя форматирование\n",
        "(вывод примерно следующего вида: “ 1 place --- sun --- 15 times \\n....”);\n",
        "- заменить все эти слова в строке на слово “PYTHON”;\n",
        "- создать новый txt-файл;\n",
        "- записать строку в файл, разбивая на строки, при этом на каждой строке записывать не более 100 символов при этом не делить слова."
      ],
      "metadata": {
        "id": "KwYnoUfhhL39"
      },
      "id": "KwYnoUfhhL39"
    },
    {
      "cell_type": "code",
      "execution_count": null,
      "id": "25c01300",
      "metadata": {
        "colab": {
          "base_uri": "https://localhost:8080/"
        },
        "id": "25c01300",
        "outputId": "b68e8e29-bcb3-4794-9700-a839d5e930c4"
      },
      "outputs": [
        {
          "output_type": "stream",
          "name": "stdout",
          "text": [
            "Top 10 most common words:\n",
            "1 place --- a --- 10 times\n",
            "2 place --- of --- 8 times\n",
            "3 place --- life --- 5 times\n",
            "4 place --- the --- 5 times\n",
            "5 place --- biography --- 4 times\n",
            "6 place --- or --- 4 times\n",
            "7 place --- is --- 4 times\n",
            "8 place --- persons --- 3 times\n",
            "9 place --- and --- 3 times\n",
            "10 place --- subjects --- 3 times\n"
          ]
        }
      ],
      "source": [
        "\"\"\"Определить нужный формат данных, включая телефонный номер или e-mail адрес.\n",
        "Разбивать строки на подстроки.\n",
        "Искать, извлекать и заменять символы.\n",
        "Быстро выполнять нетривиальные операции.\"\"\"\n",
        "#класс collections.Counter() предназначен для удобных и быстрых подсчетов количества появлений неизменяемых элементов в последовательностях.\n",
        "import re  # Импорт модуля re для работы с регулярными выражениями\n",
        "from collections import Counter  # Импорт класса Counter из модуля collections\n",
        "\n",
        "def wiki_function(input_file, output_file):\n",
        "    clean_words = []  # Создание пустого списка для хранения \"чистых\" слов\n",
        "    with open(input_file, 'r') as file:  # Открытие входного файла для чтения\n",
        "        for line in file:  # Чтение файла построчно\n",
        "            line = line.strip()  # Удаление лишних символов в начале и конце строки\n",
        "            if line:  # Проверка, что строка не пустая\n",
        "                clean_line = re.sub(r'[^a-zA-Z\\s]', '', line)  # Фильтрация строки, оставляя только буквы и пробелы\n",
        "                clean_words.extend(clean_line.split())  # Добавление \"чистых\" слов из строки в список clean_words\n",
        "    word_count = Counter(clean_words)  # Подсчет количества уникальных слов с помощью Counter\n",
        "    most_common = word_count.most_common(10)  # Получение 10 наиболее популярных слов\n",
        "    print(\"Top 10 most common words:\")\n",
        "    for i, (word, count) in enumerate(most_common, 1):  # Вывод топ-10 слов и их количества\n",
        "        print(f\"{i} place --- {word} --- {count} times\")\n",
        "    new_line = ' '.join(clean_words)  # Объединение \"чистых\" слов в строку, разделенных пробелами\n",
        "    for word, _ in most_common:\n",
        "        new_line = new_line.replace(word, \"PYTHON\")  # Замена наиболее популярных слов на \"PYTHON\"\n",
        "    with open(output_file, 'w') as file:  # Открытие выходного файла для записи\n",
        "        while len(new_line) > 100:  # Запись строки в файл с ограничением до 100 символов в строке\n",
        "            split_index = new_line.rfind(' ', 0, 100)  # Поиск последнего пробела в подстроке до 100 символов\n",
        "            file.write(new_line[:split_index] + '\\n')  # Запись части строки до найденного пробела\n",
        "            new_line = new_line[split_index+1:]  # Обновление строки для записи оставшейся части\n",
        "        file.write(new_line)\n",
        "\n",
        "wiki_function(\"input.txt\", \"output.txt\")  # Вызов функции с указанием входного и выходного файлов"
      ]
    }
  ],
  "metadata": {
    "colab": {
      "provenance": []
    },
    "language_info": {
      "name": "python"
    },
    "kernelspec": {
      "name": "python3",
      "display_name": "Python 3"
    }
  },
  "nbformat": 4,
  "nbformat_minor": 5
}