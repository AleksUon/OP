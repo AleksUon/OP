{
  "cells": [
    {
      "cell_type": "markdown",
      "id": "7742be0d",
      "metadata": {
        "id": "7742be0d"
      },
      "source": [
        "# Ознакомительная практика. Тема A. 74_Жаворонкова"
      ]
    },
    {
      "cell_type": "markdown",
      "id": "a1cd7d3c",
      "metadata": {
        "id": "a1cd7d3c"
      },
      "source": [
        "## Задание A1\n",
        "Написать функцию all_different(start, finish), которая определяет количество чисел  \n",
        "в интервале между числами start и finish (их не считая), в записи которых все цифры разные.  \n",
        "\n",
        "Примеры:\n",
        "```python\n",
        "all_different(20,33) ==> 11 (кроме числа 22)\n",
        "all_different(0,101) ==> 90\n",
        "```"
      ]
    },
    {
      "cell_type": "code",
      "execution_count": 3,
      "id": "7d87cbd7",
      "metadata": {
        "id": "7d87cbd7"
      },
      "outputs": [],
      "source": [
        "def all_different(a, b):\n",
        "    c = 0\n",
        "    for i in range(a+1, b):\n",
        "        if len(str(i))==len(set(str(i))):  # Проверка условия: количество уникальных символов в строковом представлении числа равно длине строки\n",
        "            c += 1\n",
        "    return c  # Возврат общего количества чисел, удовлетворяющих условию"
      ]
    },
    {
      "cell_type": "markdown",
      "id": "1dd01936",
      "metadata": {
        "id": "1dd01936"
      },
      "source": [
        "Тесты:"
      ]
    },
    {
      "cell_type": "code",
      "execution_count": 4,
      "id": "d25170b9",
      "metadata": {
        "colab": {
          "base_uri": "https://localhost:8080/"
        },
        "id": "d25170b9",
        "outputId": "c8960ea5-5909-4e1e-8681-a797e76735d3"
      },
      "outputs": [
        {
          "output_type": "stream",
          "name": "stdout",
          "text": [
            "TEST PASSED - ТЕСТЫ ПРОЙДЕНЫ\n"
          ]
        }
      ],
      "source": [
        "import traceback\n",
        "\n",
        "try:\n",
        "    assert all_different(20, 33) == 11\n",
        "    assert all_different(0, 10) == 9\n",
        "    assert all_different(0, 101) == 90\n",
        "except AssertionError:\n",
        "    print(\"TEST ERROR - ОШИБКА В ТЕСТЕ\")\n",
        "    traceback.print_exc()\n",
        "else:\n",
        "    print(\"TEST PASSED - ТЕСТЫ ПРОЙДЕНЫ\")"
      ]
    },
    {
      "cell_type": "markdown",
      "id": "b472ca33",
      "metadata": {
        "id": "b472ca33"
      },
      "source": [
        "## Задание A2\n",
        "Написать функцию array_diff(a, b), которая возвращает разность списков a и b.  \n",
        "Т.е. из списка a должны быть удалены все значения, которые встречаются в списке b.  \n",
        "\n",
        "Пример:\n",
        "```python\n",
        "array_diff([1,2,2,2,3],[2]) == [1,3]\n",
        "```"
      ]
    },
    {
      "cell_type": "code",
      "execution_count": 5,
      "id": "4bcc0e7f",
      "metadata": {
        "id": "4bcc0e7f"
      },
      "outputs": [],
      "source": [
        "def array_diff(a, b):\n",
        "    return [x for x in a if x not in b]#Возврат нового списка с элементами из a, которые не содержатся в b."
      ]
    },
    {
      "cell_type": "markdown",
      "id": "37126f0e",
      "metadata": {
        "id": "37126f0e"
      },
      "source": [
        "Тесты:"
      ]
    },
    {
      "cell_type": "code",
      "execution_count": 6,
      "id": "4efb51d0",
      "metadata": {
        "colab": {
          "base_uri": "https://localhost:8080/"
        },
        "id": "4efb51d0",
        "outputId": "e0a85276-a2bf-4679-9168-cad864448ecc"
      },
      "outputs": [
        {
          "output_type": "stream",
          "name": "stdout",
          "text": [
            "TEST PASSED - ТЕСТЫ ПРОЙДЕНЫ\n"
          ]
        }
      ],
      "source": [
        "import traceback\n",
        "\n",
        "try:\n",
        "    assert array_diff([1, 2, 3], [2]) == [1, 3]\n",
        "    assert array_diff([2, 1, 3, 2, 1, 3, 3], [3, 1]) == [2, 2]\n",
        "    assert array_diff([6, 5, 4, 3, 2, 1], []) == [6, 5, 4, 3, 2, 1]\n",
        "    assert array_diff([6, 5, 4, 3, 3, 3, 3, 2, 1], [3]) == [6, 5, 4, 2, 1]\n",
        "except AssertionError:\n",
        "    print(\"TEST ERROR - ОШИБКА В ТЕСТЕ\")\n",
        "    traceback.print_exc()\n",
        "else:\n",
        "    print(\"TEST PASSED - ТЕСТЫ ПРОЙДЕНЫ\")"
      ]
    },
    {
      "cell_type": "markdown",
      "id": "d9ec3249",
      "metadata": {
        "id": "d9ec3249"
      },
      "source": [
        "## Задание A3\n",
        "Написать функцию change_cent, которая принимает количество американской валюты в центах и возвращает список из четырех значений,  \n",
        "который показывает наименьшее количество монет, используемых для составления этой суммы.  \n",
        "Рассматриваются только монетные номиналы: Pennie (1 цент), Nickel (5 центов), Dime (10 центов) and Quarter (25 центов).  \n",
        "Возвращаемый список должен быть формата [кол-во Pennie, кол-во Nickel, кол-во Dime, кол-во Quarter]  \n",
        "Если в функцию передается вещественное число, его значение сперва должно быть округлено в меньшую сторону  \n",
        "\n",
        "Пример\n",
        "```python\n",
        "change_cent(56) ==> [1,1,0,2] --> 1 * 1 + 1 * 5 + 0 * 10 + 2 * 25\n",
        "```"
      ]
    },
    {
      "cell_type": "code",
      "execution_count": 7,
      "id": "35eae25b",
      "metadata": {
        "id": "35eae25b"
      },
      "outputs": [],
      "source": [
        "def change_cent(amount):\n",
        "    amount = int(amount)  # Преобразование входного значения в целое число\n",
        "    quarter = amount // 25  # Определение количества монет по 25 центов\n",
        "    amount %= 25  # Обновление оставшейся суммы после использования монет по 25 центов\n",
        "    dime = amount // 10  # Определение количества монет по 10 центов\n",
        "    amount %= 10  # Обновление оставшейся суммы после использования монет по 10 центов\n",
        "    nickel = amount // 5  # Определение количества монет по 5 центов\n",
        "    amount %= 5  # Обновление оставшейся суммы после использования монет по 5 центов\n",
        "    penny = amount  # Оставшаяся сумма - количество пенсов\n",
        "    return [penny, nickel, dime, quarter]  # Возврат списка с количеством различных монет"
      ]
    },
    {
      "cell_type": "markdown",
      "id": "bbf1809c",
      "metadata": {
        "id": "bbf1809c"
      },
      "source": [
        "Тесты:"
      ]
    },
    {
      "cell_type": "code",
      "execution_count": 8,
      "id": "a1263541",
      "metadata": {
        "id": "a1263541",
        "colab": {
          "base_uri": "https://localhost:8080/"
        },
        "outputId": "e756cb8e-8f37-405b-ad79-2fcb86dceccb"
      },
      "outputs": [
        {
          "output_type": "stream",
          "name": "stdout",
          "text": [
            "TEST PASSED - ТЕСТЫ ПРОЙДЕНЫ\n"
          ]
        }
      ],
      "source": [
        "import traceback\n",
        "\n",
        "try:\n",
        "    assert change_cent(29) == [4,0,0,1]\n",
        "    assert change_cent(91) == [1,1,1,3]\n",
        "    assert change_cent(0) == [0,0,0,0]\n",
        "    assert change_cent(127) == [2,0,0,5]\n",
        "    assert change_cent(3.9) == [3,0,0,0]\n",
        "except AssertionError:\n",
        "    print(\"TEST ERROR - ОШИБКА В ТЕСТЕ\")\n",
        "    traceback.print_exc()\n",
        "else:\n",
        "    print(\"TEST PASSED - ТЕСТЫ ПРОЙДЕНЫ\")\n"
      ]
    },
    {
      "cell_type": "markdown",
      "id": "a61108fd",
      "metadata": {
        "id": "a61108fd"
      },
      "source": [
        "## Задание A4\n",
        "Написать функцию ips_between(start, end), которая возвращает  \n",
        "количество ip адресов, начиная с start и до end, не считая его.\n",
        "Start и end представляют собой список из четырех целых чисел, например [10, 0, 0, 50]\n"
      ]
    },
    {
      "cell_type": "code",
      "execution_count": 9,
      "id": "21beb08f",
      "metadata": {
        "id": "21beb08f"
      },
      "outputs": [],
      "source": [
        "def ips_between(start, end):\n",
        "  def ip_to_int(ip):  # Функция для преобразования IP-адреса в целое число\n",
        "    return ip[0] * 256 ** 3 + ip[1] * 256 ** 2 + ip[2] * 256 + ip[3]\n",
        "  start_int = ip_to_int(start)  # Преобразование начального IP-адреса в целое число\n",
        "  end_int = ip_to_int(end)  # Преобразование конечного IP-адреса в целое число\n",
        "  return end_int - start_int  # Возврат разницы между целыми числами конечного и начального IP-адресов"
      ]
    },
    {
      "cell_type": "markdown",
      "id": "200f7b96",
      "metadata": {
        "id": "200f7b96"
      },
      "source": [
        "Тесты:"
      ]
    },
    {
      "cell_type": "code",
      "execution_count": 10,
      "id": "dd271a5e",
      "metadata": {
        "id": "dd271a5e",
        "colab": {
          "base_uri": "https://localhost:8080/"
        },
        "outputId": "c989b449-07e0-4e24-e4c4-030fe0515a95"
      },
      "outputs": [
        {
          "output_type": "stream",
          "name": "stdout",
          "text": [
            "TEST PASSED - ТЕСТЫ ПРОЙДЕНЫ\n"
          ]
        }
      ],
      "source": [
        "import traceback\n",
        "\n",
        "try:\n",
        "    assert ips_between([10, 0, 0, 0], [10, 0, 0, 50]) == 50\n",
        "    assert ips_between([20, 0, 0, 10], [20, 0, 1, 0]) == 246\n",
        "except AssertionError:\n",
        "    print(\"TEST ERROR - ОШИБКА В ТЕСТЕ\")\n",
        "    traceback.print_exc()\n",
        "else:\n",
        "    print(\"TEST PASSED - ТЕСТЫ ПРОЙДЕНЫ\")\n"
      ]
    },
    {
      "cell_type": "markdown",
      "id": "c5d4fd67",
      "metadata": {
        "id": "c5d4fd67"
      },
      "source": [
        "## Задание A5\n",
        "Создать список (каталог мобильных приложений), состоящий из словарей (приложение). Словари должны содержать как минимум 5 полей\n",
        "(например, номер, название, рейтинг...). В список добавить хотя бы 10 словарей.\n",
        "```python\n",
        "Конструкция вида:\n",
        "apps = [{\"id\" : 123456, \"title\" : \"Google Play\", \"rating\" : 4.9,...} , {...}, {...}, ...]\n",
        "Реализовать функции:\n",
        "– вывода информации о всех приложениях;\n",
        "– вывода информации о приложении по введенному с клавиатуры номеру;\n",
        "– вывода количества приложений, с оценкой выше введённого;\n",
        "– обновлении всей информации о приложении по введенному номеру;\n",
        "– удалении приложения по номеру.\n",
        "```"
      ]
    },
    {
      "cell_type": "code",
      "execution_count": 1,
      "id": "47c25af1",
      "metadata": {
        "id": "47c25af1"
      },
      "outputs": [],
      "source": [
        "apps = [\n",
        "{\"id\": 1, \"title\": \"Facebook\", \"rating\": 4.5, \"downloads\": 1000000000, \"category\": \"Social\"},\n",
        "{\"id\": 2, \"title\": \"Instagram\", \"rating\": 4.8, \"downloads\": 1000000000, \"category\": \"Social\"},\n",
        "{\"id\": 3, \"title\": \"VK\", \"rating\": 4.6, \"downloads\": 500000000, \"category\": \"Social\"},\n",
        "{\"id\": 4, \"title\": \"Netflix\", \"rating\": 4.7, \"downloads\": 1000000000, \"category\": \"Entertainment\"},\n",
        "{\"id\": 5, \"title\": \"WhatsApp\", \"rating\": 4.7, \"downloads\": 5000000000, \"category\": \"Communication\"},\n",
        "{\"id\": 6, \"title\": \"YouTube\", \"rating\": 4.9, \"downloads\": 5000000000, \"category\": \"Entertainment\"},\n",
        "{\"id\": 7, \"title\": \"Telegram\", \"rating\": 4.5, \"downloads\": 1000000000, \"category\": \"Communication\"},\n",
        "{\"id\": 8, \"title\": \"Twitter\", \"rating\": 4.2, \"downloads\": 1000000000, \"category\": \"Social\"},\n",
        "{\"id\": 9, \"title\": \"Spotify\", \"rating\": 4.6, \"downloads\": 500000000, \"category\": \"Music\"},\n",
        "{\"id\": 10, \"title\": \"Amazon\", \"rating\": 4.3, \"downloads\": 1000000000, \"category\": \"Shopping\"}\n",
        "]\n",
        "\n",
        "def display_all_apps(apps):  #Функция display_all_apps отображает все доступные приложения в списке\n",
        "  for app in apps:\n",
        "    print(app)\n",
        "\n",
        "def get_app_by_id(apps, app_id):  #Функция get_app_by_id находит и возвращает приложение по его идентификатору\n",
        "  for app in apps:\n",
        "    if app['id'] == app_id:\n",
        "      return app\n",
        "  return None\n",
        "\n",
        "def count_apps_with_higher_rating(apps, rating):  #Функция count_apps_with_higher_rating подсчитывает количество приложений с рейтингом выше указанного значения\n",
        "  count = 0\n",
        "  for app in apps:\n",
        "    if app['rating'] > rating:\n",
        "      count += 1\n",
        "  return count\n",
        "\n",
        "def update_app_by_id(apps, app_id, new_info):  #Функция update_app_by_id обновляет информацию об указанном приложении по его идентификатору\n",
        "  for app in apps:\n",
        "    if app['id'] == app_id:\n",
        "      app.update(new_info)\n",
        "      return\n",
        "  print(\"App not found\")\n",
        "\n",
        "def delete_app_by_id(apps, app_id):  #Функция delete_app_by_id удаляет приложение из списка по его идентификатору.\n",
        "  for index, app in enumerate(apps):\n",
        "    if app['id'] == app_id:\n",
        "      del apps[index]\n",
        "      return"
      ]
    },
    {
      "cell_type": "markdown",
      "id": "b3b4a2c7",
      "metadata": {
        "id": "b3b4a2c7"
      },
      "source": [
        "Тесты:"
      ]
    },
    {
      "cell_type": "code",
      "execution_count": 2,
      "id": "c9054006",
      "metadata": {
        "id": "c9054006",
        "colab": {
          "base_uri": "https://localhost:8080/"
        },
        "outputId": "1d29e6b5-9b94-4279-c13e-c04c3a71b2af"
      },
      "outputs": [
        {
          "output_type": "stream",
          "name": "stdout",
          "text": [
            "{'id': 1, 'title': 'Facebook', 'rating': 4.5, 'downloads': 1000000000, 'category': 'Social'}\n",
            "{'id': 2, 'title': 'Instagram', 'rating': 4.8, 'downloads': 1000000000, 'category': 'Social'}\n",
            "{'id': 3, 'title': 'VK', 'rating': 4.6, 'downloads': 500000000, 'category': 'Social'}\n",
            "{'id': 4, 'title': 'Netflix', 'rating': 4.7, 'downloads': 1000000000, 'category': 'Entertainment'}\n",
            "{'id': 5, 'title': 'WhatsApp', 'rating': 4.7, 'downloads': 5000000000, 'category': 'Communication'}\n",
            "{'id': 6, 'title': 'YouTube', 'rating': 4.9, 'downloads': 5000000000, 'category': 'Entertainment'}\n",
            "{'id': 7, 'title': 'Telegram', 'rating': 4.5, 'downloads': 1000000000, 'category': 'Communication'}\n",
            "{'id': 8, 'title': 'Twitter', 'rating': 4.2, 'downloads': 1000000000, 'category': 'Social'}\n",
            "{'id': 9, 'title': 'Spotify', 'rating': 4.6, 'downloads': 500000000, 'category': 'Music'}\n",
            "{'id': 10, 'title': 'Amazon', 'rating': 4.3, 'downloads': 1000000000, 'category': 'Shopping'}\n",
            "{'id': 1, 'title': 'Facebook', 'rating': 4.5, 'downloads': 1000000000, 'category': 'Social'}\n",
            "{'id': 2, 'title': 'Instagram', 'rating': 4.8, 'downloads': 1000000000, 'category': 'Social'}\n",
            "{'id': 3, 'title': 'VK', 'rating': 4.6, 'downloads': 500000000, 'category': 'Social'}\n",
            "{'id': 4, 'title': 'Netflix', 'rating': 4.7, 'downloads': 1000000000, 'category': 'Entertainment'}\n",
            "{'id': 5, 'title': 'WhatsApp', 'rating': 4.7, 'downloads': 5000000000, 'category': 'Communication'}\n",
            "{'id': 6, 'title': 'YouTube', 'rating': 4.9, 'downloads': 5000000000, 'category': 'Entertainment'}\n",
            "{'id': 7, 'title': 'Telegram', 'rating': 4.5, 'downloads': 1000000000, 'category': 'Communication'}\n",
            "{'id': 8, 'title': 'Twitter', 'rating': 4.2, 'downloads': 1000000000, 'category': 'Social'}\n",
            "{'id': 9, 'title': 'Spotify', 'rating': 4.6, 'downloads': 500000000, 'category': 'Music'}\n",
            "{'id': 10, 'title': 'Amazon', 'rating': 4.3, 'downloads': 1000000000, 'category': 'Shopping'}\n",
            "None\n",
            "{'id': 5, 'title': 'WhatsApp', 'rating': 4.7, 'downloads': 5000000000, 'category': 'Communication'}\n",
            "Number of apps with rating above 4.6 is 4\n",
            "{'id': 5, 'title': 'WhatsApp', 'rating': 4.8, 'downloads': 1500000000, 'category': 'Communication'}\n",
            "{'id': 1, 'title': 'Facebook', 'rating': 4.5, 'downloads': 1000000000, 'category': 'Social'}\n",
            "{'id': 2, 'title': 'Instagram', 'rating': 4.8, 'downloads': 1000000000, 'category': 'Social'}\n",
            "{'id': 3, 'title': 'VK', 'rating': 4.6, 'downloads': 500000000, 'category': 'Social'}\n",
            "{'id': 4, 'title': 'Netflix', 'rating': 4.7, 'downloads': 1000000000, 'category': 'Entertainment'}\n",
            "{'id': 5, 'title': 'WhatsApp', 'rating': 4.8, 'downloads': 1500000000, 'category': 'Communication'}\n",
            "{'id': 6, 'title': 'YouTube', 'rating': 4.9, 'downloads': 5000000000, 'category': 'Entertainment'}\n",
            "{'id': 8, 'title': 'Twitter', 'rating': 4.2, 'downloads': 1000000000, 'category': 'Social'}\n",
            "{'id': 9, 'title': 'Spotify', 'rating': 4.6, 'downloads': 500000000, 'category': 'Music'}\n",
            "{'id': 10, 'title': 'Amazon', 'rating': 4.3, 'downloads': 1000000000, 'category': 'Shopping'}\n",
            "{'id': 1, 'title': 'Facebook', 'rating': 4.5, 'downloads': 1000000000, 'category': 'Social'}\n",
            "{'id': 2, 'title': 'Instagram', 'rating': 4.8, 'downloads': 1000000000, 'category': 'Social'}\n",
            "{'id': 3, 'title': 'VK', 'rating': 4.6, 'downloads': 500000000, 'category': 'Social'}\n",
            "{'id': 4, 'title': 'Netflix', 'rating': 4.7, 'downloads': 1000000000, 'category': 'Entertainment'}\n",
            "{'id': 5, 'title': 'WhatsApp', 'rating': 4.8, 'downloads': 1500000000, 'category': 'Communication'}\n",
            "{'id': 6, 'title': 'YouTube', 'rating': 4.9, 'downloads': 5000000000, 'category': 'Entertainment'}\n",
            "{'id': 8, 'title': 'Twitter', 'rating': 4.2, 'downloads': 1000000000, 'category': 'Social'}\n",
            "{'id': 9, 'title': 'Spotify', 'rating': 4.6, 'downloads': 500000000, 'category': 'Music'}\n",
            "{'id': 10, 'title': 'Amazon', 'rating': 4.3, 'downloads': 1000000000, 'category': 'Shopping'}\n",
            "None\n",
            "TEST PASSED - ТЕСТЫ ПРОЙДЕНЫ\n"
          ]
        }
      ],
      "source": [
        "import traceback\n",
        "\n",
        "try:\n",
        "  display_all_apps(apps)\n",
        "  print(display_all_apps(apps))\n",
        "  app_id = 5\n",
        "  app_info = get_app_by_id(apps, app_id)\n",
        "  print(app_info)\n",
        "  rating_threshold = 4.6\n",
        "  num_apps = count_apps_with_higher_rating(apps, rating_threshold)\n",
        "  print(\"Number of apps with rating above\", rating_threshold, \"is\", num_apps)\n",
        "  new_app_info = {\"rating\": 4.8, \"downloads\": 1500000000}\n",
        "  update_app_by_id(apps, app_id, new_app_info)\n",
        "  updated_app = get_app_by_id(apps, app_id)\n",
        "  print(updated_app)\n",
        "  delete_app_by_id(apps, 7)\n",
        "  display_all_apps(apps)\n",
        "  print(display_all_apps(apps))\n",
        "except AssertionError:\n",
        "  print(\"TEST ERROR - ОШИБКА В ТЕСТЕ\")\n",
        "  traceback.print_exc()\n",
        "else:\n",
        "  print(\"TEST PASSED - ТЕСТЫ ПРОЙДЕНЫ\")"
      ]
    }
  ],
  "metadata": {
    "colab": {
      "provenance": []
    },
    "language_info": {
      "name": "python"
    },
    "kernelspec": {
      "name": "python3",
      "display_name": "Python 3"
    }
  },
  "nbformat": 4,
  "nbformat_minor": 5
}