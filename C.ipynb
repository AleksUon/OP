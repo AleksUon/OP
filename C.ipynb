{
  "cells": [
    {
      "cell_type": "markdown",
      "id": "a1cf56a2",
      "metadata": {
        "id": "a1cf56a2"
      },
      "source": [
        "# Ознакомительная практика. Тема C. 74_Жаворонкова"
      ]
    },
    {
      "cell_type": "markdown",
      "id": "0315173f",
      "metadata": {
        "id": "0315173f"
      },
      "source": [
        "## Задание С1\n",
        "  \n",
        "Реализовать классы согласно заданию. Предусмотреть хотя бы в 5 местах обработку возможных исключений. После каждого класса привести тестирование методов.\n"
      ]
    },
    {
      "cell_type": "markdown",
      "id": "046c58b2",
      "metadata": {
        "id": "046c58b2"
      },
      "source": [
        "1) Создать класс Person с полями имя, фамилия, возраст. Добавить конструктор класса.\n"
      ]
    },
    {
      "cell_type": "code",
      "execution_count": null,
      "id": "80112fb0",
      "metadata": {
        "id": "80112fb0"
      },
      "outputs": [],
      "source": [
        "class Person:\n",
        "    def __init__(self, name, surname, age):  #Конструктор класса, устанавливает имя, фамилию и возраст персоны\n",
        "        if not name:  #определяем есть ли имя\n",
        "            raise ValueError(\"Имя не может быть пустым\")\n",
        "        if not surname:  #определяем есть ли фамилия\n",
        "            raise ValueError(\"Фамилия не может быть пустой\")\n",
        "        if not isinstance(age, int):  #определяем, что возраст целое число\n",
        "            raise TypeError(\"Возраст должен быть целым числом\")\n",
        "        if age < 0:  #Определяем, что возраст больше 0\n",
        "            raise ValueError(\"Возраст должен быть положительный\")\n",
        "        #Код устанавливает атрибуты объекта: name, surname, age. self - доступ к атрибутам и методам экземпляра\n",
        "        self.name = name\n",
        "        self.surname = surname\n",
        "        self.age = age\n",
        "    #метод get_full_name, который возвращает полное имя, состоящее из имени, фамилии и возраста объекта.\n",
        "    def get_full_name(self):\n",
        "        return f\"{self.name} {self.surname} {self.age}\""
      ]
    },
    {
      "cell_type": "markdown",
      "id": "c70e4ed5",
      "metadata": {
        "id": "c70e4ed5"
      },
      "source": [
        "Тестирование:"
      ]
    },
    {
      "cell_type": "code",
      "execution_count": null,
      "id": "e99f9ca5",
      "metadata": {
        "colab": {
          "base_uri": "https://localhost:8080/"
        },
        "id": "e99f9ca5",
        "outputId": "2d54c1d6-d953-4a5b-83b7-2c1ae97fc4d8"
      },
      "outputs": [
        {
          "output_type": "stream",
          "name": "stdout",
          "text": [
            "TEST PASSED - ТЕСТЫ ПРОЙДЕНЫ\n"
          ]
        }
      ],
      "source": [
        "try:\n",
        "    person1 = Person(\"Валентина\", \"В\", 19)\n",
        "    person2 = Person(\"Даниил\", \"С\", 19)\n",
        "    person3 = Person(\"Кирилл\", \"Д\", 17)\n",
        "    person4 = Person(\"Евгений\", \"Ч\", 19)\n",
        "    person5 = Person(\"Вячеслав\", \"К\", 18)\n",
        "    person6 = Person(\"Никита\", \"З\", 19)\n",
        "    person7 = Person(\"Саня\", \"А\", 18)\n",
        "    assert person1.name == \"Валентина\"\n",
        "    assert person1.surname == \"В\"\n",
        "    assert person1.age == 19\n",
        "    assert person2.name == \"Даниил\"\n",
        "    assert person2.surname == \"С\"\n",
        "    assert person2.age == 19\n",
        "    assert person3.name == \"Кирилл\"\n",
        "    assert person3.surname == \"Д\"\n",
        "    assert person3.age == 17\n",
        "    assert person4.name == \"Евгений\"\n",
        "    assert person5.name == \"Вячеслав\"\n",
        "    assert person6.name == \"Никита\"\n",
        "    assert person7.name == \"Саня\"\n",
        "except AssertionError as e:\n",
        "    print(\"TEST ERROR - ОШИБКА В ТЕСТЕ\")\n",
        "else:\n",
        "    print(\"TEST PASSED - ТЕСТЫ ПРОЙДЕНЫ\")"
      ]
    },
    {
      "cell_type": "markdown",
      "id": "420c8335",
      "metadata": {
        "id": "420c8335"
      },
      "source": [
        "2) Создать производный от Person класс Client. Новые поля: номер билета, параметры тренировок (словарь вида параметр: значение). Определить конструктор, с вызовом родительского конструктора. Определить функции добавления параметра в журнал тренировок, получения значения по параметру, форматированной печати всех параметров. Переопределить метод преобразования в строку для печати основной информации (ФИ, возраст, номер билета).\n"
      ]
    },
    {
      "cell_type": "code",
      "execution_count": null,
      "id": "f9c2343c",
      "metadata": {
        "id": "f9c2343c"
      },
      "outputs": [],
      "source": [
        "# Класс Person используется для создания объекта человека с ФИ и возрастом\n",
        "class Person:\n",
        "    def __init__(self, full_name, age):  #Конструктор класса, устанавливает ФИ и возраст клиента\n",
        "        self.full_name = full_name\n",
        "        self.age = age\n",
        "\n",
        "    def __str__(self):\n",
        "        return f\"ФИ: {self.full_name}, Возраст: {self.age}\"\n",
        "# Класс Client наследуется от класса Person и добавляет поля номера билета и словаря параметров для тренировок\n",
        "class Client(Person):\n",
        "    def __init__(self, full_name, age, ticket_number):  # Конструктор класса Person\n",
        "        super().__init__(full_name, age) #Вызывается конструктор родительского класса с помощью super().__init__(full_name, age), передавая аргументы full_name и age.\n",
        "        self.ticket_number = ticket_number  #Cоздается атрибут ticket_number и присваивается ему значение, переданное в аргументе конструктора.\n",
        "        self.training_params = {}  #Cоздается пустой словарь training_params для хранения параметров обучения.\n",
        "   # Метод для добавления параметра тренировки и его значения в словарь\n",
        "    def add_training_param(self, param, value):  #Добавляет новый параметр тренировки в словарь add_training_param\n",
        "        self.training_params[param] = value # param: ключ параметра, value: значение параметра.\n",
        "    # Метод для получения значения параметра тренировки из словаря\n",
        "    def get_training_param_value(self, param):  #Этот метод возвращает значение параметра тренировки из словаря по заданному ключу param.\n",
        "        return self.training_params.get(param, \"Параметр не найден\")  #Если параметр не найден в словаре, возвращается сообщение \"Параметр не найден\".\n",
        "    # Метод для вывода всех параметров тренировки и их значений\n",
        "    def print_training_params(self):  #Определяется метод print_training_params\n",
        "        for param, value in self.training_params.items():\n",
        "            print(f\"{param}: {value}\")  #выводит на экран ключи и значения из словаря training_params в формате \"ключ: значение\"\n",
        "    #Метод вывод информации о клиенте\n",
        "    def __str__(self):\n",
        "        return f\"Информация о клиенте: ФИ: {self.full_name}, Возраст: {self.age}, Номер билета: {self.ticket_number}\""
      ]
    },
    {
      "cell_type": "markdown",
      "id": "49bbdae4",
      "metadata": {
        "id": "49bbdae4"
      },
      "source": [
        "Тестирование:"
      ]
    },
    {
      "cell_type": "code",
      "execution_count": null,
      "id": "733fe0ba",
      "metadata": {
        "id": "733fe0ba",
        "colab": {
          "base_uri": "https://localhost:8080/"
        },
        "outputId": "7df06e61-6a4a-479a-abc6-301a59829975"
      },
      "outputs": [
        {
          "output_type": "stream",
          "name": "stdout",
          "text": [
            "Информация о клиенте: ФИ: Константин Л, Возраст: 18, Номер билета: 12345\n",
            "Вес: 75\n",
            "Рост: 185\n",
            "75\n",
            "Параметр не найден\n",
            "TEST PASSED - ТЕСТЫ ПРОЙДЕНЫ\n"
          ]
        }
      ],
      "source": [
        "try:\n",
        "    client1 = Client(\"Константин Л\", 18, 12345)\n",
        "    client1.add_training_param(\"Вес\", 75)\n",
        "    client1.add_training_param(\"Рост\", 185)\n",
        "\n",
        "    print(client1)\n",
        "    client1.print_training_params()\n",
        "    print(client1.get_training_param_value(\"Вес\"))\n",
        "    print(client1.get_training_param_value(\"BMI\"))  #Тестируем несуществующий параметр\n",
        "    assert client1.full_name == \"Константин Л\"\n",
        "    assert client1.age == 18\n",
        "    assert client1.ticket_number == 12345\n",
        "except AssertionError as e:\n",
        "    print(\"TEST ERROR - ОШИБКА В ТЕСТЕ\")\n",
        "else:\n",
        "    print(\"TEST PASSED - ТЕСТЫ ПРОЙДЕНЫ\")"
      ]
    },
    {
      "cell_type": "markdown",
      "id": "45790015",
      "metadata": {
        "id": "45790015"
      },
      "source": [
        "3) Создать производный от Person класс Trainer. Новые поля: номер удостоверения, должность, расписание работы (словарь вида день : время). Определить конструктор, с вызовом родительского конструктора. Определить функции изменения, добавления и удаления в расписание. Переопределить метод преобразования в строку для печати основной информации (ФИ, возраст, номер удостоверения, должность).\n"
      ]
    },
    {
      "cell_type": "code",
      "execution_count": null,
      "id": "9e9dc450",
      "metadata": {
        "id": "9e9dc450"
      },
      "outputs": [],
      "source": [
        "class Person:\n",
        "    def __init__(self, full_name, age):  # Конструктор класса Person\n",
        "        # Устанавливаем свойство full_name и age\n",
        "        self.full_name = full_name\n",
        "        self.age = age\n",
        "\n",
        "    def __str__(self):# Метод для вывода информации\n",
        "        return f\"ФИ: {self.full_name}, Возраст: {self.age}\"\n",
        "\n",
        "#Класс Trainer наследуется от класса Person\n",
        "class Trainer(Person):\n",
        "    def __init__(self, full_name, age, license_number, position, work_schedule):# Конструктор класса Trainer\n",
        "        super().__init__(full_name, age)  # Вызываем конструктор класса Person\n",
        "        # Устанавливаем свойство объекта: license_number,position,work_schedule\n",
        "        self.license_number = license_number\n",
        "        self.position = position\n",
        "        self.work_schedule = work_schedule\n",
        "    # Метод для вывода информации о тренере\n",
        "    def __str__(self):\n",
        "        return f\"{super().__str__()}, Номер удостоверения: {self.license_number}, Должность: {self.position}\"\n",
        "    # Метод для изменения расписания тренера\n",
        "    def change_schedule(self, day, time):\n",
        "        self.work_schedule[day] = time\n",
        "    # Метод для добавления дня и времени в расписание тренера\n",
        "    def add_to_schedule(self, day, time):\n",
        "        if day in self.work_schedule:\n",
        "              print(f\"{day} уже есть в расписании.\")\n",
        "        else:\n",
        "              self.work_schedule[day] = time # Добавление дня и времени\n",
        "    # Метод для удаления дня из расписания тренера\n",
        "    def remove_from_schedule(self, day):\n",
        "        del self.work_schedule[day] # Удаление дня"
      ]
    },
    {
      "cell_type": "markdown",
      "id": "9ca020c6",
      "metadata": {
        "id": "9ca020c6"
      },
      "source": [
        "Тестирование:"
      ]
    },
    {
      "cell_type": "code",
      "execution_count": null,
      "id": "12262c23",
      "metadata": {
        "id": "12262c23",
        "colab": {
          "base_uri": "https://localhost:8080/"
        },
        "outputId": "8f9e6272-5fad-4ff8-94f0-febfacf6dbf5"
      },
      "outputs": [
        {
          "output_type": "stream",
          "name": "stdout",
          "text": [
            "Алексей Смирнов, Возраст: 45, Кабинет: 101, Предметы: 10A: Математика, Физика; 11B: Информатика\n",
            "Алексей Смирнов, Возраст: 45, Кабинет: 202, Предметы: 10A: Математика; 11B: Информатика\n"
          ]
        }
      ],
      "source": [
        "class Person:\n",
        "    # Конструктор класса, устанавливает имя, фамилию и возраст персоны\n",
        "    def __init__(self, name, surname, age):\n",
        "        # Есть ли имя\n",
        "        if not name:\n",
        "            raise ValueError(\"Имя не может быть пустым\")\n",
        "        # Есть ли фамилия\n",
        "        if not surname:\n",
        "            raise ValueError(\"Фамилия не может быть пустой\")\n",
        "        # Возраст целое число\n",
        "        if not isinstance(age, int):\n",
        "            raise TypeError(\"Возраст должен быть целым числом\")\n",
        "        # Возраст больше 0\n",
        "        if age < 0:\n",
        "            raise ValueError(\"Возраст должен быть положительный\")\n",
        "        # Устанавливливаем атрибуты объекта\n",
        "        self.name = name\n",
        "        self.surname = surname\n",
        "        self.age = age\n",
        "\n",
        "    # Возвращает фамилию, имя и возраст\n",
        "    def get_full_name(self):\n",
        "        return f\"{self.name} {self.surname} {self.age}\"\n",
        "\n",
        "\n",
        "class Teacher(Person):\n",
        "    def __init__(self, name, surname, age, room_number):\n",
        "        # Вызов родительского конструктора\n",
        "        super().__init__(name, surname, age)\n",
        "        # Устанавливаем новые атрибуты\n",
        "        self.room_number = room_number\n",
        "        self.subjects = {}\n",
        "\n",
        "    # Метод изменения кабинета\n",
        "    def change_room(self, new_room_number):\n",
        "        self.room_number = new_room_number\n",
        "\n",
        "    # Метод добавления предмета\n",
        "    def add_subject(self, school_class, subject):\n",
        "        if school_class not in self.subjects:\n",
        "            self.subjects[school_class] = []\n",
        "        if subject not in self.subjects[school_class]:\n",
        "            self.subjects[school_class].append(subject)\n",
        "\n",
        "    # Метод удаления предмета\n",
        "    def remove_subject(self, school_class, subject):\n",
        "        if school_class in self.subjects and subject in self.subjects[school_class]:\n",
        "            self.subjects[school_class].remove(subject)\n",
        "            if not self.subjects[school_class]:  # если список предметов пуст, удалить ключ\n",
        "                del self.subjects[school_class]\n",
        "\n",
        "    # Переопределение метода преобразования в строку\n",
        "    def __str__(self):\n",
        "        subjects_str = \"; \".join(\n",
        "            [f\"{school_class}: {', '.join(subjects)}\" for school_class, subjects in self.subjects.items()]\n",
        "        )\n",
        "        return f\"{self.name} {self.surname}, Возраст: {self.age}, Кабинет: {self.room_number}, Предметы: {subjects_str}\"\n",
        "\n",
        "\n",
        "# Пример использования\n",
        "teacher = Teacher(\"Алексей\", \"Смирнов\", 45, 101)\n",
        "teacher.add_subject(\"10A\", \"Математика\")\n",
        "teacher.add_subject(\"10A\", \"Физика\")\n",
        "teacher.add_subject(\"11B\", \"Информатика\")\n",
        "\n",
        "print(teacher)\n",
        "# Алексей Смирнов, Возраст: 45, Кабинет: 101, Предметы: 10A: Математика, Физика; 11B: Информатика\n",
        "\n",
        "teacher.change_room(202)\n",
        "teacher.remove_subject(\"10A\", \"Физика\")\n",
        "\n",
        "print(teacher)\n",
        "# Алексей Смирнов, Возраст: 45, Кабинет: 202, Предметы: 10A: Математика; 11B: Информатика"
      ]
    },
    {
      "cell_type": "markdown",
      "id": "58d4962a",
      "metadata": {
        "id": "58d4962a"
      },
      "source": [
        "4) Создать класс Gym. Поля: адрес, список клиентов (список экземпляров класса Client), список тренеров (список экземпляров класса Trainer). Определить конструктор. Переопределить метод преобразования в строку для печати всей информации о спортзале (с использованием переопределения в классах Client и Trainer). Переопределить методы получения количества тренеров функцией len, получения тренеров по индексу, изменения по индексу, удаления по индексу. Переопределить операции + и - для добавления или удаления клиента. Добавить функцию создания txt-файла и записи всей информации в него (в том числе расписаний тренеров и журналов тренировок клиентов)."
      ]
    },
    {
      "cell_type": "code",
      "execution_count": null,
      "id": "516dbea3",
      "metadata": {
        "id": "516dbea3"
      },
      "outputs": [],
      "source": [
        "class Gym:\n",
        "  def __init__(self, address, clients=[], trainers=[]): # Конструктор класса Gym\n",
        "    # Устанавливаем свойство объекта: address, clients, trainers\n",
        "    self.address = address\n",
        "    self.clients = clients\n",
        "    self.trainers = trainers\n",
        "\n",
        "  def __str__(self):  # Метод для представления объекта\n",
        "    clients_info = \"\\n\".join(str(client) for client in self.clients)  # Создание строки с информацией о клиентах\n",
        "    trainers_info = \"\\n\".join(str(trainer) for trainer in self.trainers)  # Создание строки с информацией о тренерах\n",
        "    return f\"Адрес спортзала: {self.address}\\nКлиенты:\\n{clients_info}\\nТренеры:\\n{trainers_info}\"  # Возврат информации о зале, клиентах и тренерах\n",
        "\n",
        "  def __len__(self):  # Метод для определения длины объекта\n",
        "    return len(self.trainers)  # Возвращение длины списка тренеров\n",
        "\n",
        "  def __getitem__(self, index): # Метод для получения тренера по индексу\n",
        "    try:  # Обработка исключения\n",
        "      return self.trainers[index] # Возвращение тренера по индексу\n",
        "    except IndexError:\n",
        "      return \"Тренер отсутствует\" # Возвращение сообщения об отсутствии тренера\n",
        "\n",
        "  def __setitem__(self, index, new_trainer): # Метод для изменения тренера по индексу\n",
        "    try:  # Обработка исключения\n",
        "      self.trainers[index] = new_trainer # Изменение тренера по индексу\n",
        "    except IndexError:\n",
        "      return \"Тренер отсутствует\" # Возвращение сообщения об отсутствии тренера\n",
        "\n",
        "  def __delitem__(self, index): # Метод для удаления тренера по индексу\n",
        "    try:  # Обработка исключения\n",
        "      del self.trainers[index] # Удаление тренера по индексу\n",
        "    except IndexError:\n",
        "      return \"Тренер отсутствует\" # Возвращение сообщения об отсутствии тренера\n",
        "\n",
        "  def __add__(self, client): # Метод для добавления клиента\n",
        "    self.clients.append(client) # Добавление клиента в список клиентов\n",
        "    return self # Возврат текущего объекта\n",
        "\n",
        "  def __sub__(self, client):  # Метод для удаления клиента\n",
        "    if client in self.clients:  # Проверка наличия клиента в списке клиентов\n",
        "      self.clients.remove(client)  # Удаление клиента, если он присутствует\n",
        "    return self  # Возврат текущего объекта\n",
        "\n",
        "  def create_txt_file(self, file_name): # Метод создания текстового файла\n",
        "    with open(file_name, \"w\") as file: # Открыть файл на запись\n",
        "      file.write(str(self)) # Запись информации о зале\n",
        "\n",
        "# Класс Client\n",
        "class Client:\n",
        "  def __init__(self, name, age, trainer=None): # Конструктор класса Client\n",
        "    # Устанавливаем свойство объекта: name, age, trainer\n",
        "    self.name = name\n",
        "    self.age = age\n",
        "    self.trainer = trainer\n",
        "\n",
        "  def __str__(self): # Метод для представления объекта\n",
        "    return f\"Клиент: {self.name}, Возраст: {self.age}, Тренер: {self.trainer}\"\n",
        "\n",
        "# Класс Trainer\n",
        "class Trainer:\n",
        "  def __init__(self, name, specialty, schedule=[]):  # Конструктор класса Trainer\n",
        "    # Устанавливаем свойство объекта: name, specialty, schedule\n",
        "    self.name = name\n",
        "    self.specialty = specialty\n",
        "    self.schedule = schedule\n",
        "\n",
        "  def __str__(self):  # Метод для представления объекта\n",
        "    schedule_info = \"\\n\".join(str(day) for day in self.schedule)  # Создание строки с информацией о расписании\n",
        "    return f\"Тренер: {self.name}, Специальность: {self.specialty}, График:\\n{schedule_info}\""
      ]
    },
    {
      "cell_type": "markdown",
      "id": "3a058805",
      "metadata": {
        "id": "3a058805"
      },
      "source": [
        "Тестирование:"
      ]
    },
    {
      "cell_type": "code",
      "execution_count": null,
      "id": "56ab5b7f",
      "metadata": {
        "id": "56ab5b7f",
        "colab": {
          "base_uri": "https://localhost:8080/"
        },
        "outputId": "fbbe52df-9f49-4170-ba1a-6decb0927b15"
      },
      "outputs": [
        {
          "output_type": "stream",
          "name": "stdout",
          "text": [
            "Тесты пройдены\n",
            "Тесты пройдены\n",
            "Тесты пройдены\n",
            "Тесты пройдены\n",
            "Тесты пройдены\n",
            "Тесты пройдены\n"
          ]
        }
      ],
      "source": [
        "trainer1 = Trainer(\"Ника Агатова\", \"Фитнесс\", [\"Понедельник: 9:00-13:00\", \"Среда: 15:00-16:00\"])\n",
        "trainer2 = Trainer(\"Ольга Ткаля\", \"Йога\", [\"Вторник: 10:00-14:00\", \"Четверг: 16:00-19:00\"])\n",
        "trainer3 = Trainer(\"Никита Нечаев\", \"Борьба\", [\"Вторник: 12:00-14:00\", \"Субботу: 16:00-19:00\"])\n",
        "\n",
        "client1 = Client(\"Костя Лакисов\", 25, trainer1)\n",
        "client2 = Client(\"Савва Нилов\", 30, trainer2)\n",
        "\n",
        "gym = Gym(\"проспект Вернадского, дом 78\", clients=[client1, client2], trainers=[trainer1, trainer2])\n",
        "\n",
        "# Проверка метода __len__\n",
        "try:\n",
        "    assert len(gym) == 2\n",
        "    print(\"Тесты пройдены\")\n",
        "except AssertionError:\n",
        "    print(\"Ошибка в методе __len__\")\n",
        "\n",
        "# Проверка метода __getitem__\n",
        "try:\n",
        "    assert gym[0] == trainer1\n",
        "    assert gym[4] == \"Тренер отсутствует\"\n",
        "    print(\"Тесты пройдены\")\n",
        "except AssertionError:\n",
        "    print(\"Ошибка в методе __getitem__ \")\n",
        "\n",
        "# Проверка метода __setitem__\n",
        "try:\n",
        "    gym[0] = trainer3\n",
        "    assert gym[0] == trainer3\n",
        "    assert gym[2] == \"Тренер отсутствует\"\n",
        "    print(\"Тесты пройдены\")\n",
        "except AssertionError:\n",
        "    print(\"Ошибка в методе __setitem__ \")\n",
        "\n",
        "# Проверка метода __delitem__\n",
        "try:\n",
        "    del gym[1]\n",
        "    assert len(gym) == 1\n",
        "    assert gym[1] == \"Тренер отсутствует\"\n",
        "    print(\"Тесты пройдены\")\n",
        "except AssertionError:\n",
        "    print(\"Ошибка в методе __delitem__\")\n",
        "\n",
        "# Проверка методов __add__ и __sub__\n",
        "try:\n",
        "    client3 = Client(\"Боря Мильков\", 30, trainer2)\n",
        "    gym + client3\n",
        "    assert len(gym.clients) == 3\n",
        "    gym - client1\n",
        "    assert len(gym.clients) == 2\n",
        "    print(\"Тесты пройдены\")\n",
        "except AssertionError:\n",
        "    print(\"Ошибка в методе __add__ or __sub__ \")\n",
        "\n",
        "# Проверка создания текстового файла\n",
        "try:\n",
        "    gym.create_txt_file(\"gym_info.txt\")\n",
        "    print(\"Тесты пройдены\")\n",
        "except Exception as e:\n",
        "    print(\"Ошибка в создании файла\", e)"
      ]
    },
    {
      "cell_type": "code",
      "execution_count": 1,
      "metadata": {
        "id": "70928d8b"
      },
      "outputs": [],
      "source": [
        "class Person:\n",
        "    # Конструктор класса, устанавливает имя, фамилию и возраст персоны\n",
        "    def __init__(self, name, surname, age):\n",
        "        # Есть ли имя\n",
        "        if not name:\n",
        "            raise ValueError(\"Имя не может быть пустым\")\n",
        "        # Есть ли фамилия\n",
        "        if not surname:\n",
        "            raise ValueError(\"Фамилия не может быть пустой\")\n",
        "        # Возраст целое число\n",
        "        if not isinstance(age, int):\n",
        "            raise TypeError(\"Возраст должен быть целым числом\")\n",
        "        # Возраст больше 0\n",
        "        if age < 0:\n",
        "            raise ValueError(\"Возраст должен быть положительный\")\n",
        "        # Устанавливливаем атрибуты объекта\n",
        "        self.name = name\n",
        "        self.surname = surname\n",
        "        self.age = age\n",
        "\n",
        "    # Возвращает фамилию, имя и возраст\n",
        "    def get_full_name(self):\n",
        "        return f\"{self.name} {self.surname} {self.age}\"\n",
        "\n",
        "\n",
        "class Teacher(Person):\n",
        "    def __init__(self, name, surname, age, room_number):\n",
        "        # Вызов родительского конструктора\n",
        "        super().__init__(name, surname, age)\n",
        "        # Устанавливаем новые атрибуты\n",
        "        self.room_number = room_number\n",
        "        self.subjects = {}\n",
        "\n",
        "    # Метод изменения кабинета\n",
        "    def change_room(self, new_room_number):\n",
        "        self.room_number = new_room_number\n",
        "\n",
        "    # Метод добавления предмета\n",
        "    def add_subject(self, school_class, subject):\n",
        "        if school_class not in self.subjects:\n",
        "            self.subjects[school_class] = []\n",
        "        if subject not in self.subjects[school_class]:\n",
        "            self.subjects[school_class].append(subject)\n",
        "\n",
        "    # Метод удаления предмета\n",
        "    def remove_subject(self, school_class, subject):\n",
        "        if school_class in self.subjects and subject in self.subjects[school_class]:\n",
        "            self.subjects[school_class].remove(subject)\n",
        "            if not self.subjects[school_class]:  # если список предметов пуст, удалить ключ\n",
        "                del self.subjects[school_class]\n",
        "\n",
        "    # Переопределение метода преобразования в строку\n",
        "    def __str__(self):\n",
        "        subjects_str = \"; \".join(\n",
        "            [f\"{school_class}: {', '.join(subjects)}\" for school_class, subjects in self.subjects.items()]\n",
        "        )\n",
        "        return f\"{self.name} {self.surname}, Возраст: {self.age}, Кабинет: {self.room_number}, Предметы: {subjects_str}\""
      ],
      "id": "70928d8b"
    },
    {
      "cell_type": "code",
      "execution_count": 2,
      "metadata": {
        "id": "1ac4a25e"
      },
      "outputs": [],
      "source": [
        "\n",
        "class Student(Person):\n",
        "    def __init__(self, name, surname, age, school_class):\n",
        "        # Вызов родительского конструктора\n",
        "        super().__init__(name, surname, age)\n",
        "        # Устанавливаем новые атрибуты\n",
        "        self.school_class = school_class\n",
        "        self.diary = {}\n",
        "\n",
        "    # Метод добавления отметки в дневник\n",
        "    def add_grade(self, subject, date, grade):\n",
        "        if subject not in self.diary:\n",
        "            self.diary[subject] = {}\n",
        "        self.diary[subject][date] = grade\n",
        "\n",
        "    # Метод получения всех отметок по предмету\n",
        "    def get_grades_by_subject(self, subject):\n",
        "        return self.diary.get(subject, {})\n",
        "\n",
        "    # Метод форматированной печати всего дневника\n",
        "    def print_diary(self):\n",
        "        for subject, grades in self.diary.items():\n",
        "            print(f\"Предмет: {subject}\")\n",
        "            for date, grade in grades.items():\n",
        "                print(f\"  Дата: {date}, Отметка: {grade}\")\n",
        "\n",
        "    # Переопределение метода преобразования в строку\n",
        "    def __str__(self):\n",
        "        return f\"{self.name} {self.surname}, Возраст: {self.age}, Класс: {self.school_class}\"\n"
      ],
      "id": "1ac4a25e"
    },
    {
      "cell_type": "code",
      "execution_count": 3,
      "metadata": {
        "id": "81218541"
      },
      "outputs": [],
      "source": [
        "class Class:\n",
        "    def __init__(self, class_number, teacher):\n",
        "        self.class_number = class_number\n",
        "        self.students = []\n",
        "        self.teacher = teacher\n",
        "\n",
        "    def __str__(self):\n",
        "        teacher_info = str(self.teacher)\n",
        "        students_info = \"\\n\".join([str(student) for student in self.students])\n",
        "        return f\"Класс {self.class_number}\\nКлассный руководитель:\\n{teacher_info}\\nУченики:\\n{students_info}\"\n",
        "\n",
        "    def __len__(self):\n",
        "        return len(self.students)\n",
        "\n",
        "    def __getitem__(self, index):\n",
        "        if index == 0:\n",
        "            return self.teacher\n",
        "        else:\n",
        "            return self.students[index - 1]\n",
        "\n",
        "    def __setitem__(self, index, value):\n",
        "        if index == 0:\n",
        "            self.teacher = value\n",
        "        else:\n",
        "            self.students[index - 1] = value\n",
        "\n",
        "    def __delitem__(self, index):\n",
        "        if index == 0:\n",
        "            self.teacher = None\n",
        "        else:\n",
        "            del self.students[index - 1]\n",
        "\n",
        "    def add_student(self, student):\n",
        "        self.students.append(student)\n",
        "\n",
        "    def remove_student(self, student):\n",
        "        self.students.remove(student)\n",
        "\n",
        "    def create_txt_file(self, filename):\n",
        "        with open(filename, \"w\") as file:\n",
        "            file.write(str(self))\n",
        "            file.write(\"\\n\\n\")\n",
        "            for student in self.students:\n",
        "                file.write(f\"{str(student)}\\n\")\n",
        "                for subject, grades in student.diary.items():\n",
        "                    file.write(f\"Дневник по предмету '{subject}':\\n\")\n",
        "                    for date, grade in grades.items():\n",
        "                        file.write(f\"  Дата: {date}, Отметка: {grade}\\n\")\n",
        "                file.write(\"\\n\")"
      ],
      "id": "81218541"
    },
    {
      "cell_type": "markdown",
      "metadata": {
        "id": "8ff6f141"
      },
      "source": [
        "Тестирование:"
      ],
      "id": "8ff6f141"
    },
    {
      "cell_type": "code",
      "execution_count": 4,
      "metadata": {
        "id": "1d7019e9",
        "colab": {
          "base_uri": "https://localhost:8080/"
        },
        "outputId": "7126799f-9907-43b1-c595-05f9f888f0f4"
      },
      "outputs": [
        {
          "output_type": "stream",
          "name": "stdout",
          "text": [
            "Тест метода __len__ пройден успешно\n",
            "Тест метода __getitem__ пройден успешно\n",
            "Тест метода __setitem__ пройден успешно\n",
            "Тест метода __delitem__ пройден успешно\n",
            "Тест добавления ученика и создания txt-файла пройден успешно\n"
          ]
        }
      ],
      "source": [
        "# Создаем объекты для тестирования\n",
        "teacher = Teacher(\"Иван\", \"Петров\", 35, \"101\")\n",
        "student1 = Student(\"Анна\", \"Иванова\", 15, \"10A\")\n",
        "student2 = Student(\"Петр\", \"Сидоров\", 16, \"10A\")\n",
        "\n",
        "# Создаем экземпляр класса\n",
        "class_10A = Class(\"10A\", teacher)\n",
        "\n",
        "# Добавляем учеников\n",
        "class_10A.add_student(student1)\n",
        "class_10A.add_student(student2)\n",
        "\n",
        "# Тестирование метода __len__\n",
        "try:\n",
        "    assert len(class_10A) == 2\n",
        "    print(\"Тест метода __len__ пройден успешно\")\n",
        "except AssertionError:\n",
        "    print(\"Ошибка в методе __len__\")\n",
        "\n",
        "# Тестирование метода __getitem__\n",
        "try:\n",
        "    assert class_10A[0] == teacher\n",
        "    assert class_10A[1] == student1\n",
        "    print(\"Тест метода __getitem__ пройден успешно\")\n",
        "except AssertionError:\n",
        "    print(\"Ошибка в методе __getitem__\")\n",
        "\n",
        "# Тестирование метода __setitem__\n",
        "try:\n",
        "    new_teacher = Teacher(\"Мария\", \"Смирнова\", 40, \"102\")\n",
        "    class_10A[0] = new_teacher\n",
        "    assert class_10A[0] == new_teacher\n",
        "    print(\"Тест метода __setitem__ пройден успешно\")\n",
        "except AssertionError:\n",
        "    print(\"Ошибка в методе __setitem__\")\n",
        "\n",
        "# Тестирование метода __delitem__\n",
        "try:\n",
        "    del class_10A[1]\n",
        "    assert len(class_10A) == 1\n",
        "    print(\"Тест метода __delitem__ пройден успешно\")\n",
        "except AssertionError:\n",
        "    print(\"Ошибка в методе __delitem__\")\n",
        "\n",
        "# Тестирование добавления ученика и создания txt-файла\n",
        "try:\n",
        "    student3 = Student(\"Василий\", \"Николаев\", 15, \"10A\")\n",
        "    class_10A.add_student(student3)\n",
        "    assert len(class_10A) == 2  # Проверяем, что ученик был добавлен\n",
        "\n",
        "    # Создание txt-файла\n",
        "    class_10A.create_txt_file(\"class_info.txt\")\n",
        "\n",
        "    # Проверка наличия файла\n",
        "    import os\n",
        "    assert os.path.exists(\"class_info.txt\")\n",
        "    print(\"Тест добавления ученика и создания txt-файла пройден успешно\")\n",
        "except AssertionError:\n",
        "    print(\"Ошибка в добавлении ученика или создании txt-файла\")"
      ],
      "id": "1d7019e9"
    }
  ],
  "metadata": {
    "colab": {
      "provenance": []
    },
    "language_info": {
      "name": "python"
    },
    "kernelspec": {
      "name": "python3",
      "display_name": "Python 3"
    }
  },
  "nbformat": 4,
  "nbformat_minor": 5
}